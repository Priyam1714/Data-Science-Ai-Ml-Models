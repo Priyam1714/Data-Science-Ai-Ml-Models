{
 "cells": [
  {
   "cell_type": "markdown",
   "source": [
    "Question Prediction Whether it belongs to History Course or Science using Linear Support Vector Machine}"
   ],
   "metadata": {}
  },
  {
   "cell_type": "code",
   "execution_count": 69,
   "source": [
    "#importing all the necessary and required liberaries\r\n",
    "\r\n",
    "import pandas as pd\r\n",
    "import numpy as np\r\n",
    "import matplotlib.pyplot as plt\r\n",
    "from sklearn.model_selection import train_test_split\r\n",
    "from sklearn.feature_extraction.text import TfidfVectorizer # it is used to extract features from text\r\n",
    "from sklearn.svm import LinearSVC\r\n",
    "from sklearn.metrics import accuracy_score"
   ],
   "outputs": [],
   "metadata": {}
  },
  {
   "cell_type": "markdown",
   "source": [
    "Data Pre Processing And Loading Begins From here."
   ],
   "metadata": {}
  },
  {
   "cell_type": "code",
   "execution_count": 70,
   "source": [
    "#importing PyPDF2 library to convert the pdf file into a more readable format which is a csv file in this case\r\n",
    "\r\n",
    "import PyPDF2\r\n",
    "data=PyPDF2.PdfFileReader(\"Ancient 1-merged.pdf\")\r\n",
    "str=\" \"\r\n",
    "for i in range(50):\r\n",
    "    str+=data.getPage(i).extractText()    \r\n",
    "\r\n",
    "with open(\"History.csv\",\"w\") as f:\r\n",
    "    f.write(str)\r\n",
    "\r\n"
   ],
   "outputs": [],
   "metadata": {}
  },
  {
   "cell_type": "code",
   "execution_count": 71,
   "source": [
    "#loading the file from merged history question files into a pandas dataframe History_data\r\n",
    "history_data=pd.read_csv(\"History.csv\",error_bad_lines=False)\r\n"
   ],
   "outputs": [
    {
     "output_type": "stream",
     "name": "stderr",
     "text": [
      "b'Skipping line 103: expected 1 fields, saw 2\\nSkipping line 119: expected 1 fields, saw 2\\nSkipping line 203: expected 1 fields, saw 2\\nSkipping line 207: expected 1 fields, saw 2\\nSkipping line 260: expected 1 fields, saw 3\\nSkipping line 281: expected 1 fields, saw 3\\nSkipping line 300: expected 1 fields, saw 2\\nSkipping line 326: expected 1 fields, saw 3\\nSkipping line 338: expected 1 fields, saw 2\\nSkipping line 344: expected 1 fields, saw 2\\nSkipping line 365: expected 1 fields, saw 2\\nSkipping line 376: expected 1 fields, saw 2\\nSkipping line 422: expected 1 fields, saw 2\\nSkipping line 424: expected 1 fields, saw 2\\nSkipping line 446: expected 1 fields, saw 2\\nSkipping line 570: expected 1 fields, saw 2\\nSkipping line 627: expected 1 fields, saw 2\\nSkipping line 704: expected 1 fields, saw 2\\nSkipping line 732: expected 1 fields, saw 2\\nSkipping line 738: expected 1 fields, saw 2\\nSkipping line 741: expected 1 fields, saw 2\\nSkipping line 755: expected 1 fields, saw 2\\nSkipping line 757: expected 1 fields, saw 2\\nSkipping line 794: expected 1 fields, saw 3\\nSkipping line 834: expected 1 fields, saw 2\\nSkipping line 837: expected 1 fields, saw 3\\nSkipping line 873: expected 1 fields, saw 2\\nSkipping line 879: expected 1 fields, saw 2\\nSkipping line 899: expected 1 fields, saw 2\\nSkipping line 929: expected 1 fields, saw 2\\nSkipping line 974: expected 1 fields, saw 2\\nSkipping line 990: expected 1 fields, saw 2\\nSkipping line 1022: expected 1 fields, saw 2\\nSkipping line 1027: expected 1 fields, saw 2\\nSkipping line 1039: expected 1 fields, saw 2\\nSkipping line 1051: expected 1 fields, saw 2\\nSkipping line 1130: expected 1 fields, saw 2\\nSkipping line 1154: expected 1 fields, saw 2\\nSkipping line 1196: expected 1 fields, saw 2\\nSkipping line 1235: expected 1 fields, saw 2\\nSkipping line 1238: expected 1 fields, saw 2\\nSkipping line 1302: expected 1 fields, saw 2\\nSkipping line 1304: expected 1 fields, saw 2\\nSkipping line 1313: expected 1 fields, saw 2\\nSkipping line 1360: expected 1 fields, saw 2\\nSkipping line 1362: expected 1 fields, saw 2\\nSkipping line 1364: expected 1 fields, saw 2\\nSkipping line 1385: expected 1 fields, saw 2\\nSkipping line 1389: expected 1 fields, saw 2\\nSkipping line 1418: expected 1 fields, saw 2\\nSkipping line 1423: expected 1 fields, saw 3\\nSkipping line 1441: expected 1 fields, saw 2\\nSkipping line 1464: expected 1 fields, saw 2\\nSkipping line 1465: expected 1 fields, saw 2\\nSkipping line 1467: expected 1 fields, saw 2\\nSkipping line 1482: expected 1 fields, saw 2\\nSkipping line 1492: expected 1 fields, saw 2\\nSkipping line 1588: expected 1 fields, saw 2\\nSkipping line 1669: expected 1 fields, saw 2\\nSkipping line 1803: expected 1 fields, saw 2\\nSkipping line 1805: expected 1 fields, saw 2\\nSkipping line 1845: expected 1 fields, saw 2\\nSkipping line 1851: expected 1 fields, saw 2\\nSkipping line 1890: expected 1 fields, saw 2\\nSkipping line 1893: expected 1 fields, saw 2\\nSkipping line 1898: expected 1 fields, saw 2\\nSkipping line 1918: expected 1 fields, saw 2\\nSkipping line 1924: expected 1 fields, saw 2\\nSkipping line 1963: expected 1 fields, saw 2\\nSkipping line 1985: expected 1 fields, saw 2\\nSkipping line 2003: expected 1 fields, saw 2\\nSkipping line 2008: expected 1 fields, saw 2\\nSkipping line 2025: expected 1 fields, saw 2\\nSkipping line 2051: expected 1 fields, saw 2\\nSkipping line 2056: expected 1 fields, saw 2\\nSkipping line 2061: expected 1 fields, saw 2\\nSkipping line 2083: expected 1 fields, saw 3\\nSkipping line 2086: expected 1 fields, saw 2\\nSkipping line 2088: expected 1 fields, saw 2\\nSkipping line 2191: expected 1 fields, saw 2\\nSkipping line 2262: expected 1 fields, saw 2\\nSkipping line 2319: expected 1 fields, saw 2\\nSkipping line 2411: expected 1 fields, saw 2\\nSkipping line 2442: expected 1 fields, saw 2\\nSkipping line 2468: expected 1 fields, saw 2\\nSkipping line 2506: expected 1 fields, saw 2\\nSkipping line 2511: expected 1 fields, saw 3\\n'\n"
     ]
    }
   ],
   "metadata": {}
  },
  {
   "cell_type": "code",
   "execution_count": 72,
   "source": [
    "#Science Data is read from the qna scte-1-merged.text and convert into an pandas data frame known as Science_data\r\n",
    "science_data=pd.read_csv(\"qna-scte-1-merged.txt\",error_bad_lines=False)\r\n",
    "science_data['Label']=1\r\n",
    "science_data.columns=[\"Text\",\"Label\"]\r\n",
    "science_data.head()\r\n",
    "\r\n"
   ],
   "outputs": [
    {
     "output_type": "stream",
     "name": "stderr",
     "text": [
      "b'Skipping line 121: expected 1 fields, saw 2\\nSkipping line 146: expected 1 fields, saw 3\\nSkipping line 265: expected 1 fields, saw 3\\nSkipping line 303: expected 1 fields, saw 2\\nSkipping line 308: expected 1 fields, saw 2\\nSkipping line 343: expected 1 fields, saw 2\\nSkipping line 405: expected 1 fields, saw 2\\nSkipping line 545: expected 1 fields, saw 2\\nSkipping line 606: expected 1 fields, saw 2\\n'\n"
     ]
    },
    {
     "output_type": "execute_result",
     "data": {
      "text/html": [
       "<div>\n",
       "<style scoped>\n",
       "    .dataframe tbody tr th:only-of-type {\n",
       "        vertical-align: middle;\n",
       "    }\n",
       "\n",
       "    .dataframe tbody tr th {\n",
       "        vertical-align: top;\n",
       "    }\n",
       "\n",
       "    .dataframe thead th {\n",
       "        text-align: right;\n",
       "    }\n",
       "</style>\n",
       "<table border=\"1\" class=\"dataframe\">\n",
       "  <thead>\n",
       "    <tr style=\"text-align: right;\">\n",
       "      <th></th>\n",
       "      <th>Text</th>\n",
       "      <th>Label</th>\n",
       "    </tr>\n",
       "  </thead>\n",
       "  <tbody>\n",
       "    <tr>\n",
       "      <th>0</th>\n",
       "      <td>Question 1.In which decade was the American In...</td>\n",
       "      <td>1</td>\n",
       "    </tr>\n",
       "    <tr>\n",
       "      <th>1</th>\n",
       "      <td>A.      1850s</td>\n",
       "      <td>1</td>\n",
       "    </tr>\n",
       "    <tr>\n",
       "      <th>2</th>\n",
       "      <td>B.      1880s</td>\n",
       "      <td>1</td>\n",
       "    </tr>\n",
       "    <tr>\n",
       "      <th>3</th>\n",
       "      <td>C.     1930s</td>\n",
       "      <td>1</td>\n",
       "    </tr>\n",
       "    <tr>\n",
       "      <th>4</th>\n",
       "      <td>D.    1950s</td>\n",
       "      <td>1</td>\n",
       "    </tr>\n",
       "  </tbody>\n",
       "</table>\n",
       "</div>"
      ],
      "text/plain": [
       "                                                Text  Label\n",
       "0  Question 1.In which decade was the American In...      1\n",
       "1                                      A.      1850s      1\n",
       "2                                      B.      1880s      1\n",
       "3                                       C.     1930s      1\n",
       "4                                        D.    1950s      1"
      ]
     },
     "metadata": {},
     "execution_count": 72
    }
   ],
   "metadata": {}
  },
  {
   "cell_type": "code",
   "execution_count": 73,
   "source": [
    "#now labeling the data of out history data set\r\n",
    "history_data[\"Label\"]=0\r\n",
    "history_data.columns=[\"Text\",\"Label\"]\r\n",
    "history_data.head(1126)\r\n"
   ],
   "outputs": [
    {
     "output_type": "execute_result",
     "data": {
      "text/html": [
       "<div>\n",
       "<style scoped>\n",
       "    .dataframe tbody tr th:only-of-type {\n",
       "        vertical-align: middle;\n",
       "    }\n",
       "\n",
       "    .dataframe tbody tr th {\n",
       "        vertical-align: top;\n",
       "    }\n",
       "\n",
       "    .dataframe thead th {\n",
       "        text-align: right;\n",
       "    }\n",
       "</style>\n",
       "<table border=\"1\" class=\"dataframe\">\n",
       "  <thead>\n",
       "    <tr style=\"text-align: right;\">\n",
       "      <th></th>\n",
       "      <th>Text</th>\n",
       "      <th>Label</th>\n",
       "    </tr>\n",
       "  </thead>\n",
       "  <tbody>\n",
       "    <tr>\n",
       "      <th>0</th>\n",
       "      <td>Consider the following statements about Indus ...</td>\n",
       "      <td>0</td>\n",
       "    </tr>\n",
       "    <tr>\n",
       "      <th>1</th>\n",
       "      <td>1. IVC people worshipped Mother Goddess but no...</td>\n",
       "      <td>0</td>\n",
       "    </tr>\n",
       "    <tr>\n",
       "      <th>2</th>\n",
       "      <td>2. There was no social stratification.</td>\n",
       "      <td>0</td>\n",
       "    </tr>\n",
       "    <tr>\n",
       "      <th>3</th>\n",
       "      <td>3. Trade was a major activity at the Indus Val...</td>\n",
       "      <td>0</td>\n",
       "    </tr>\n",
       "    <tr>\n",
       "      <th>4</th>\n",
       "      <td>use lapis lazuli as a</td>\n",
       "      <td>0</td>\n",
       "    </tr>\n",
       "    <tr>\n",
       "      <th>...</th>\n",
       "      <td>...</td>\n",
       "      <td>...</td>\n",
       "    </tr>\n",
       "    <tr>\n",
       "      <th>1121</th>\n",
       "      <td>a) Form of martial arts practiced in Assam</td>\n",
       "      <td>0</td>\n",
       "    </tr>\n",
       "    <tr>\n",
       "      <th>1122</th>\n",
       "      <td>b) Musical instrument used in Carnatic music</td>\n",
       "      <td>0</td>\n",
       "    </tr>\n",
       "    <tr>\n",
       "      <th>1123</th>\n",
       "      <td>c) Style of architecture found in Central India</td>\n",
       "      <td>0</td>\n",
       "    </tr>\n",
       "    <tr>\n",
       "      <th>1124</th>\n",
       "      <td>d) Form of music</td>\n",
       "      <td>0</td>\n",
       "    </tr>\n",
       "    <tr>\n",
       "      <th>1125</th>\n",
       "      <td>sung by peasants of Rajasthan</td>\n",
       "      <td>0</td>\n",
       "    </tr>\n",
       "  </tbody>\n",
       "</table>\n",
       "<p>1126 rows × 2 columns</p>\n",
       "</div>"
      ],
      "text/plain": [
       "                                                   Text  Label\n",
       "0     Consider the following statements about Indus ...      0\n",
       "1     1. IVC people worshipped Mother Goddess but no...      0\n",
       "2                2. There was no social stratification.      0\n",
       "3     3. Trade was a major activity at the Indus Val...      0\n",
       "4                                use lapis lazuli as a       0\n",
       "...                                                 ...    ...\n",
       "1121         a) Form of martial arts practiced in Assam      0\n",
       "1122       b) Musical instrument used in Carnatic music      0\n",
       "1123    c) Style of architecture found in Central India      0\n",
       "1124                                  d) Form of music       0\n",
       "1125                      sung by peasants of Rajasthan      0\n",
       "\n",
       "[1126 rows x 2 columns]"
      ]
     },
     "metadata": {},
     "execution_count": 73
    }
   ],
   "metadata": {}
  },
  {
   "cell_type": "code",
   "execution_count": 74,
   "source": [
    "#here we are appending both the datasets History and science together to  feed into our train_test_split model\r\n",
    "\r\n",
    "Final_raw_data=history_data.append(science_data)\r\n",
    "Final_raw_data.head(1378)"
   ],
   "outputs": [
    {
     "output_type": "execute_result",
     "data": {
      "text/html": [
       "<div>\n",
       "<style scoped>\n",
       "    .dataframe tbody tr th:only-of-type {\n",
       "        vertical-align: middle;\n",
       "    }\n",
       "\n",
       "    .dataframe tbody tr th {\n",
       "        vertical-align: top;\n",
       "    }\n",
       "\n",
       "    .dataframe thead th {\n",
       "        text-align: right;\n",
       "    }\n",
       "</style>\n",
       "<table border=\"1\" class=\"dataframe\">\n",
       "  <thead>\n",
       "    <tr style=\"text-align: right;\">\n",
       "      <th></th>\n",
       "      <th>Text</th>\n",
       "      <th>Label</th>\n",
       "    </tr>\n",
       "  </thead>\n",
       "  <tbody>\n",
       "    <tr>\n",
       "      <th>0</th>\n",
       "      <td>Consider the following statements about Indus ...</td>\n",
       "      <td>0</td>\n",
       "    </tr>\n",
       "    <tr>\n",
       "      <th>1</th>\n",
       "      <td>1. IVC people worshipped Mother Goddess but no...</td>\n",
       "      <td>0</td>\n",
       "    </tr>\n",
       "    <tr>\n",
       "      <th>2</th>\n",
       "      <td>2. There was no social stratification.</td>\n",
       "      <td>0</td>\n",
       "    </tr>\n",
       "    <tr>\n",
       "      <th>3</th>\n",
       "      <td>3. Trade was a major activity at the Indus Val...</td>\n",
       "      <td>0</td>\n",
       "    </tr>\n",
       "    <tr>\n",
       "      <th>4</th>\n",
       "      <td>use lapis lazuli as a</td>\n",
       "      <td>0</td>\n",
       "    </tr>\n",
       "    <tr>\n",
       "      <th>...</th>\n",
       "      <td>...</td>\n",
       "      <td>...</td>\n",
       "    </tr>\n",
       "    <tr>\n",
       "      <th>247</th>\n",
       "      <td>D.     Adobe Acrobat file</td>\n",
       "      <td>1</td>\n",
       "    </tr>\n",
       "    <tr>\n",
       "      <th>248</th>\n",
       "      <td>Question 45.What was the first ARPANET message?</td>\n",
       "      <td>1</td>\n",
       "    </tr>\n",
       "    <tr>\n",
       "      <th>249</th>\n",
       "      <td>A.     Io</td>\n",
       "      <td>1</td>\n",
       "    </tr>\n",
       "    <tr>\n",
       "      <th>250</th>\n",
       "      <td>B.     Hello World</td>\n",
       "      <td>1</td>\n",
       "    </tr>\n",
       "    <tr>\n",
       "      <th>251</th>\n",
       "      <td>D.     Marry had a little lamb.</td>\n",
       "      <td>1</td>\n",
       "    </tr>\n",
       "  </tbody>\n",
       "</table>\n",
       "<p>1378 rows × 2 columns</p>\n",
       "</div>"
      ],
      "text/plain": [
       "                                                  Text  Label\n",
       "0    Consider the following statements about Indus ...      0\n",
       "1    1. IVC people worshipped Mother Goddess but no...      0\n",
       "2               2. There was no social stratification.      0\n",
       "3    3. Trade was a major activity at the Indus Val...      0\n",
       "4                               use lapis lazuli as a       0\n",
       "..                                                 ...    ...\n",
       "247                          D.     Adobe Acrobat file      1\n",
       "248    Question 45.What was the first ARPANET message?      1\n",
       "249                                          A.     Io      1\n",
       "250                                 B.     Hello World      1\n",
       "251                    D.     Marry had a little lamb.      1\n",
       "\n",
       "[1378 rows x 2 columns]"
      ]
     },
     "metadata": {},
     "execution_count": 74
    }
   ],
   "metadata": {}
  },
  {
   "cell_type": "markdown",
   "source": [
    "Note- I have used label 0 for History Questions and 1 for Science Questions"
   ],
   "metadata": {}
  },
  {
   "cell_type": "code",
   "execution_count": 75,
   "source": [
    "#now sepearating the data and label from the final raw data frame\r\n",
    "\r\n",
    "X=Final_raw_data[\"Text\"]\r\n",
    "Y=Final_raw_data[\"Label\"]\r\n",
    "print(X)\r\n",
    "print(\"_\"*100)\r\n",
    "print(Y)"
   ],
   "outputs": [
    {
     "output_type": "stream",
     "name": "stdout",
     "text": [
      "0      Consider the following statements about Indus ...\n",
      "1      1. IVC people worshipped Mother Goddess but no...\n",
      "2                 2. There was no social stratification.\n",
      "3      3. Trade was a major activity at the Indus Val...\n",
      "4                                 use lapis lazuli as a \n",
      "                             ...                        \n",
      "247                            D.     Adobe Acrobat file\n",
      "248      Question 45.What was the first ARPANET message?\n",
      "249                                            A.     Io\n",
      "250                                   B.     Hello World\n",
      "251                      D.     Marry had a little lamb.\n",
      "Name: Text, Length: 1378, dtype: object\n",
      "____________________________________________________________________________________________________\n",
      "0      0\n",
      "1      0\n",
      "2      0\n",
      "3      0\n",
      "4      0\n",
      "      ..\n",
      "247    1\n",
      "248    1\n",
      "249    1\n",
      "250    1\n",
      "251    1\n",
      "Name: Label, Length: 1378, dtype: int64\n"
     ]
    }
   ],
   "metadata": {}
  },
  {
   "cell_type": "code",
   "execution_count": 76,
   "source": [
    "#creating the train test sets to train our model\r\n",
    "X_train , X_test , Y_train  , Y_test = train_test_split(X,Y, train_size=0.8 , test_size=0.2, random_state=3)\r\n"
   ],
   "outputs": [],
   "metadata": {}
  },
  {
   "cell_type": "code",
   "execution_count": 77,
   "source": [
    "#transforming the text data into feature vector that can be used as input in SVM model using Tfidefvectorizer\r\n",
    "\r\n",
    "#converting all the text to lower case\r\n",
    "\r\n",
    "feature_extraction = TfidfVectorizer(min_df=1, stop_words='english', lowercase='True')\r\n",
    "X_train_features= feature_extraction.fit_transform(X_train)\r\n",
    "X_test_features = feature_extraction.transform(X_test)\r\n",
    "\r\n",
    "#converting Y train and y test into integers\r\n",
    "\r\n",
    "Y_train= Y_train.astype('int')\r\n",
    "Y_test = Y_test.astype('int')"
   ],
   "outputs": [],
   "metadata": {}
  },
  {
   "cell_type": "code",
   "execution_count": 78,
   "source": [
    "\r\n",
    "model = LinearSVC()\r\n",
    "model.fit (X_train_features,Y_train)"
   ],
   "outputs": [
    {
     "output_type": "execute_result",
     "data": {
      "text/plain": [
       "LinearSVC()"
      ]
     },
     "metadata": {},
     "execution_count": 78
    }
   ],
   "metadata": {}
  },
  {
   "cell_type": "code",
   "execution_count": 79,
   "source": [
    "#prediction on training data\r\n",
    "prediction_on_training_data = model.predict(X_train_features)\r\n",
    "\r\n",
    "accuracy_on_training_data=accuracy_score(Y_train,prediction_on_training_data)\r\n",
    "\r\n",
    "print(\"The accuracy on training data is: \",accuracy_on_training_data)\r\n",
    "\r\n",
    "#The accuracy on training data is not that important because the model has alerady seen the training data"
   ],
   "outputs": [
    {
     "output_type": "stream",
     "name": "stdout",
     "text": [
      "The accuracy on training data is:  0.9972776769509982\n"
     ]
    }
   ],
   "metadata": {}
  },
  {
   "cell_type": "code",
   "execution_count": 80,
   "source": [
    "#prediction on test data\r\n",
    "prediction_on_test_data = model.predict(X_test_features)\r\n",
    "accuracy_on_test_data = accuracy_score(Y_test,prediction_on_test_data)\r\n",
    "\r\n",
    "print(\"The accuracy on test data is: \",accuracy_on_test_data)"
   ],
   "outputs": [
    {
     "output_type": "stream",
     "name": "stdout",
     "text": [
      "The accuracy on test data is:  0.9456521739130435\n"
     ]
    }
   ],
   "metadata": {}
  },
  {
   "cell_type": "code",
   "execution_count": 81,
   "source": [
    "input_question=[\"Who invented the light bulb\"]\r\n",
    "\r\n",
    "input_question_features=feature_extraction.transform(input_question)\r\n",
    "prediction=model.predict(input_question_features)\r\n",
    "prediction\r\n",
    "\r\n",
    "if prediction==0:\r\n",
    "    print(\"History\")\r\n",
    "else:\r\n",
    "    print(\"Science\")  "
   ],
   "outputs": [
    {
     "output_type": "stream",
     "name": "stdout",
     "text": [
      "Science\n"
     ]
    }
   ],
   "metadata": {}
  },
  {
   "cell_type": "code",
   "execution_count": null,
   "source": [],
   "outputs": [],
   "metadata": {}
  }
 ],
 "metadata": {
  "orig_nbformat": 4,
  "language_info": {
   "name": "python",
   "version": "3.9.5",
   "mimetype": "text/x-python",
   "codemirror_mode": {
    "name": "ipython",
    "version": 3
   },
   "pygments_lexer": "ipython3",
   "nbconvert_exporter": "python",
   "file_extension": ".py"
  },
  "kernelspec": {
   "name": "python3",
   "display_name": "Python 3.9.5 64-bit"
  },
  "interpreter": {
   "hash": "63fd5069d213b44bf678585dea6b12cceca9941eaf7f819626cde1f2670de90d"
  }
 },
 "nbformat": 4,
 "nbformat_minor": 2
}